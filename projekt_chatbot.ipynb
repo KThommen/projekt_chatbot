{
  "nbformat": 4,
  "nbformat_minor": 0,
  "metadata": {
    "colab": {
      "provenance": []
    },
    "kernelspec": {
      "name": "python3",
      "display_name": "Python 3"
    },
    "language_info": {
      "name": "python"
    }
  },
  "cells": [
    {
      "cell_type": "markdown",
      "source": [
        "# Projekt: Chatbot\n",
        "\n",
        "*Quelle/Idee: ki-kurs.org*"
      ],
      "metadata": {
        "id": "9C0zorFTyTo2"
      }
    },
    {
      "cell_type": "markdown",
      "source": [
        "### Unterhalten mit dem Roboter\n",
        "\n",
        "Mit Freunden chatten, am Smartphone oder am Computer, das ist doch ganz normal.\n",
        "Aber mit dem Computer chatten auch?\n",
        "Bei vielen Smartphones kannst du heute schon einfach nach dem Wetter fragen - oder nach der Höhe des Eiffelturms. Du kannst es auch bitten, den Abgabetermin der Aufgabe der Woche in den Kalender einzutragen.\n",
        "Dabei redest du nicht mit einem Freund oder einem Mensch - sondern mit einer KI.\n",
        "In dieser Aufgabe bauen wir unsere eigene KI zum Unterhalten, den Chatbot. Wie intelligent die Antworten des Chatbot sind? Das hängt (auch) an dir!\n",
        "\n",
        "Übrigens: Das Wort *Chatbot* setzt sich aus den englischen Wörtern für *Unterhaltung* (*chat*) und *Roboter* (*robot*) zusammen.\n"
      ],
      "metadata": {
        "id": "PAHtoh4vzPM0"
      }
    },
    {
      "cell_type": "markdown",
      "source": [
        "### 'Hello Robot'\n",
        "\n",
        "Unser Chatbot soll verschiedene Befehle verstehen und darauf antworten. Jede Funktion kennt einige Schlüsselwörter und Antwortmöglichkeiten.\n",
        "Ist ein Schlüsselwort im Eingabesatz, so wird eine zufällige Antwort zurückgegeben, ansonsten `None`.\n",
        "Ignoriere Groß-/Kleinschreibung wenn du das Schlüsselwort überprüfst."
      ],
      "metadata": {
        "id": "8S50JdmJzWjj"
      }
    },
    {
      "cell_type": "code",
      "source": [
        "# Das hier hilft dir vielleicht bei deiner Aufgabe:\n",
        "import random\n",
        "\n",
        "if 'im' in 'Mitten im Satz':\n",
        "    print(\"Das Wort 'im' ist in 'Drinnen im Satz'\")\n",
        "\n",
        "print('DaS sInD kLeInE bUcHsTaBeN'.lower())\n",
        "\n",
        "print(random.choice(['Eins', 'Zwei', 'Drei']))\n",
        "print(random.choice(['Eins', 'Zwei', 'Drei']))\n",
        "print(random.choice(['Eins', 'Zwei', 'Drei']))"
      ],
      "metadata": {
        "colab": {
          "base_uri": "https://localhost:8080/"
        },
        "id": "sh3cxz9_zWEd",
        "outputId": "19ad8b29-d915-48a1-a0da-5a79b67f96ba"
      },
      "execution_count": 1,
      "outputs": [
        {
          "output_type": "stream",
          "name": "stdout",
          "text": [
            "Das Wort 'im' ist in 'Drinnen im Satz'\n",
            "das sind kleine buchstaben\n",
            "Drei\n",
            "Drei\n",
            "Eins\n"
          ]
        }
      ]
    },
    {
      "cell_type": "code",
      "execution_count": 2,
      "metadata": {
        "id": "iUgep7OSyOl6"
      },
      "outputs": [],
      "source": [
        "def einfache_begruessung():\n",
        "  begruessung = [\"Hallo\", \"Guten Tag\", \"Hoi\", \"Hi\", \"Hey\", \"Hallihallo\"]\n",
        "  return random.choice(begruessung)\n",
        "\n",
        "def einfache_verabschiedung():\n",
        "  verabschiedung = [\"Tschüss\", \"Ciao\", \"Bye\"]\n",
        "  return random.choice(verabschiedung)\n",
        "\n"
      ]
    },
    {
      "cell_type": "markdown",
      "source": [
        "### Chatte!"
      ],
      "metadata": {
        "id": "tcPtqNrf01_i"
      }
    },
    {
      "cell_type": "code",
      "source": [
        "chatten = input(\"Möchtest du dich mit dem Chatbot unterhalten? (Ja / nein)\")\n",
        "\n",
        "while chatten in [\"ja\", \"j\", \"JA\", \"Ja\"]:\n",
        "  eingabe_mensch = input(\"Schreibe etwas...\")\n",
        "  if \"hallo\" in eingabe_mensch.lower():\n",
        "    print(einfache_begruessung())\n",
        "\n",
        "  if \"bye\" in eingabe_mensch.lower():\n",
        "    print(einfache_verabschiedung())\n",
        "    chatten = \"nein\""
      ],
      "metadata": {
        "colab": {
          "base_uri": "https://localhost:8080/"
        },
        "id": "yS5YrORC01Wl",
        "outputId": "5262e9bd-1082-4814-9d97-506ba96f7817"
      },
      "execution_count": 5,
      "outputs": [
        {
          "output_type": "stream",
          "name": "stdout",
          "text": [
            "Möchtest du dich mit dem Chatbot unterhalten? (Ja / nein)ja\n",
            "Schreibe etwas...hallo\n",
            "Hoi\n",
            "Schreibe etwas...bye\n",
            "Tschüss\n"
          ]
        }
      ]
    }
  ]
}